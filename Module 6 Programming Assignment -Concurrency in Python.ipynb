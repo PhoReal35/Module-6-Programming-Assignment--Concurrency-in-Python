{
 "cells": [
  {
   "cell_type": "markdown",
   "id": "e144c1bb-b53b-4151-9bf9-5a0bc4d0edac",
   "metadata": {},
   "source": [
    "13.1 Write the current date as a string to the text file today.txt."
   ]
  },
  {
   "cell_type": "code",
   "execution_count": 4,
   "id": "d567adf3-3e41-4099-aecb-b850b51a7408",
   "metadata": {},
   "outputs": [],
   "source": [
    "from datetime import date\n",
    "today = date.today()\n",
    "today = today.isoformat()\n",
    "fout = open('today.txt', 'wt')\n",
    "fout.write(today)\n",
    "fout.close()"
   ]
  },
  {
   "cell_type": "markdown",
   "id": "35845bca-cf5f-4e73-b45f-28eeb27e4198",
   "metadata": {},
   "source": [
    "13.2 Read the text file today.txt into the string today_string."
   ]
  },
  {
   "cell_type": "code",
   "execution_count": 6,
   "id": "d2582e14-387c-4725-9230-af85babb06e0",
   "metadata": {},
   "outputs": [
    {
     "name": "stdout",
     "output_type": "stream",
     "text": [
      "2025-07-16\n"
     ]
    }
   ],
   "source": [
    "fin = open('today.txt', 'r')\n",
    "today_string = fin.read() \n",
    "print(today_string)\n",
    "fin.close()"
   ]
  },
  {
   "cell_type": "markdown",
   "id": "476fd6d9-704c-48d6-9dd5-57f6b8a385c5",
   "metadata": {},
   "source": [
    "13.3 13.3 Parse the date from today_string."
   ]
  },
  {
   "cell_type": "code",
   "execution_count": 10,
   "id": "9b41e32e-6fc3-4df5-9159-adec27876a2b",
   "metadata": {},
   "outputs": [
    {
     "name": "stdout",
     "output_type": "stream",
     "text": [
      "2025-07-16\n"
     ]
    }
   ],
   "source": [
    "from datetime import datetime\n",
    "today_string = '2025-07-16'\n",
    "today_date = datetime.strptime(today_string, '%Y-%m-%d').date()\n",
    "print(today_date)"
   ]
  },
  {
   "cell_type": "markdown",
   "id": "af875e2d-78f9-4619-9a67-5c6c2dd0a1ff",
   "metadata": {},
   "source": [
    "15.1 15.1 Use multiprocessing to create three separate processes. Make each one wait a random number of seconds between zero and one, print the current time, and then exit."
   ]
  },
  {
   "cell_type": "code",
   "execution_count": 15,
   "id": "56a3bdd8-6a9c-48c1-bd62-a7bfd614cc66",
   "metadata": {},
   "outputs": [],
   "source": [
    "import multiprocessing\n",
    "import time\n",
    "import random\n",
    "from datetime import datetime\n",
    "\n",
    "def wait(name):\n",
    "    wait_time = random.uniform(0, 1)\n",
    "    time.sleep(wait_time)\n",
    "    print(f'Current Time: {datetime.now().strftime('%H:%M:%S.%f')}')\n",
    "\n",
    "if __name__ == '__main__':\n",
    "    for i in range(3):\n",
    "        p = multiprocessing.Process(target=wait, args=(f\"Process {i+1}\",))\n",
    "        p.start()\n"
   ]
  },
  {
   "cell_type": "code",
   "execution_count": null,
   "id": "f3dc9e1e-6c82-43f6-9060-01ef02c357ac",
   "metadata": {},
   "outputs": [],
   "source": []
  }
 ],
 "metadata": {
  "kernelspec": {
   "display_name": "Python [conda env:base] *",
   "language": "python",
   "name": "conda-base-py"
  },
  "language_info": {
   "codemirror_mode": {
    "name": "ipython",
    "version": 3
   },
   "file_extension": ".py",
   "mimetype": "text/x-python",
   "name": "python",
   "nbconvert_exporter": "python",
   "pygments_lexer": "ipython3",
   "version": "3.12.7"
  }
 },
 "nbformat": 4,
 "nbformat_minor": 5
}
